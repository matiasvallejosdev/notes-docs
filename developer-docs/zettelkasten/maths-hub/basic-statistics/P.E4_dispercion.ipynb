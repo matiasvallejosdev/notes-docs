{
 "cells": [
  {
   "cell_type": "code",
   "execution_count": 1,
   "metadata": {},
   "outputs": [],
   "source": [
    "import numpy as np"
   ]
  },
  {
   "cell_type": "code",
   "execution_count": 2,
   "metadata": {},
   "outputs": [
    {
     "name": "stdout",
     "output_type": "stream",
     "text": [
      "Promedio a1: 11.555555555555555\n",
      "Promedio b1: 11.555555555555555\n"
     ]
    }
   ],
   "source": [
    "a1 = [8,11,12,11,12,12,11,12,15]\n",
    "b1 = [1,1,2,21,22,22,11,12,12]\n",
    "\n",
    "a1_m = len(a1)\n",
    "b1_m = len(b1)\n",
    "\n",
    "a1_promedio = np.sum(a1) / a1_m\n",
    "b1_promedio = np.sum(b1) / b1_m\n",
    "\n",
    "print(\"Promedio a1: \" + str(a1_promedio) + \"\\nPromedio b1: \" + str(b1_promedio))"
   ]
  },
  {
   "cell_type": "code",
   "execution_count": 4,
   "metadata": {},
   "outputs": [
    {
     "name": "stdout",
     "output_type": "stream",
     "text": [
      "1.8104634152000358\n",
      "8.819171036881968\n"
     ]
    }
   ],
   "source": [
    "# Desviacion estandar optimizada\n",
    "\n",
    "s = np.square(a1 - a1_promedio)\n",
    "res = np.sqrt(np.sum(s) / (a1_m - 1))\n",
    "print(res)\n",
    "\n",
    "s = np.square(b1 - b1_promedio)\n",
    "res = np.sqrt(np.sum(s) / (b1_m - 1))\n",
    "print(res)"
   ]
  },
  {
   "cell_type": "code",
   "execution_count": 5,
   "metadata": {},
   "outputs": [
    {
     "name": "stdout",
     "output_type": "stream",
     "text": [
      "Desvio a1: 1.810463415200036\n",
      "Desvio b1: 8.819171036881968\n"
     ]
    }
   ],
   "source": [
    "# Desviacion estandar sin optimizacion\n",
    "res = 0\n",
    "\n",
    "for a in a1:\n",
    "    s = np.square(a - a1_promedio)\n",
    "    res = res + s\n",
    "\n",
    "res = np.sum(res) / (a1_m - 1)\n",
    "res = np.sqrt(res)\n",
    "print(\"Desvio a1: \" + str(res))\n",
    "\n",
    "res = 0\n",
    "\n",
    "for b in b1:\n",
    "    s = np.square(b - b1_promedio)\n",
    "    res = res + s\n",
    "\n",
    "res = np.sum(res) / (b1_m - 1)\n",
    "res = np.sqrt(res)\n",
    "print(\"Desvio b1: \" + str(res))"
   ]
  },
  {
   "cell_type": "code",
   "execution_count": 18,
   "metadata": {},
   "outputs": [
    {
     "name": "stdout",
     "output_type": "stream",
     "text": [
      "9.0\n",
      "3.0\n"
     ]
    }
   ],
   "source": [
    "# Varianca y desviacion estandar\n",
    "c1 = np.array([52,55,58])\n",
    "\n",
    "s = np.square(c1 - (np.sum(c1) / len(c1)))\n",
    "d = np.sum(s) / (len(c1) - 1)\n",
    "de = np.sqrt(np.sum(s) / (len(c1) - 1))\n",
    "\n",
    "print(d)\n",
    "print(de)"
   ]
  }
 ],
 "metadata": {
  "kernelspec": {
   "display_name": "dev-ml",
   "language": "python",
   "name": "dev-ml"
  },
  "language_info": {
   "codemirror_mode": {
    "name": "ipython",
    "version": 3
   },
   "file_extension": ".py",
   "mimetype": "text/x-python",
   "name": "python",
   "nbconvert_exporter": "python",
   "pygments_lexer": "ipython3",
   "version": "3.7.6"
  }
 },
 "nbformat": 4,
 "nbformat_minor": 5
}
