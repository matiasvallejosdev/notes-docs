{
 "nbformat": 4,
 "nbformat_minor": 2,
 "metadata": {
  "language_info": {
   "name": "python",
   "codemirror_mode": {
    "name": "ipython",
    "version": 3
   },
   "version": "3.7.5-final"
  },
  "orig_nbformat": 2,
  "file_extension": ".py",
  "mimetype": "text/x-python",
  "name": "python",
  "npconvert_exporter": "python",
  "pygments_lexer": "ipython3",
  "version": 3,
  "kernelspec": {
   "name": "python38164bitee36dc15fbc84bbc9818883ee9e518b7",
   "display_name": "Python 3.8.1 64-bit"
  }
 },
 "cells": [
  {
   "cell_type": "code",
   "execution_count": 55,
   "metadata": {},
   "outputs": [
    {
     "name": "stdout",
     "output_type": "stream",
     "text": "Hello world\n"
    }
   ],
   "source": [
    "h = \"Hello world\"\n",
    "print(h)"
   ]
  },
  {
   "cell_type": "code",
   "execution_count": 56,
   "metadata": {},
   "outputs": [
    {
     "name": "stdout",
     "output_type": "stream",
     "text": "Marca: Chevrolet\nColor: Rojo\nPrecio: 15000\nNumero de motor: 154782456\nNumero de chasis: 19-b54\nEl auto se ha puesto en marcha! A conducir!\n"
    }
   ],
   "source": [
    "class auto():\n",
    "    def __init__(self,marca,color,precio,num_motor,num_chasis):\n",
    "        self._marca = marca\n",
    "        self._color = color\n",
    "        self._precio = precio\n",
    "        self._num_motor = num_motor\n",
    "        self._num_chasis = num_chasis\n",
    "    def __str__(self):\n",
    "        return \"Marca: \" + self._marca + \"\\nColor: \" + self._color + \"\\nPrecio: \" + str(self._precio) + \"\\nNumero de motor: \" + str(self._num_motor) + \"\\nNumero de chasis: \" + self._num_chasis\n",
    "    def enMarcha(self,v):\n",
    "        if v:\n",
    "            return \"El auto se ha puesto en marcha! A conducir!\"\n",
    "        else:\n",
    "            return \"El auto se ha parado! Motor off, luces off y pantallas off\"        \n",
    "miAuto = auto(\"Chevrolet\", \"Rojo\", 15000, 154782456, \"19-b54\")\n",
    "print(miAuto)\n",
    "aux = input(\"Quieres encender o apagar el auto? (INTRODUCE ON/OFF)> \")\n",
    "marcha = False\n",
    "if aux == \"on\":\n",
    "    marcha = True\n",
    "else:\n",
    "    marcha = False\n",
    "print(miAuto.enMarcha(marcha))"
   ]
  },
  {
   "cell_type": "code",
   "execution_count": 57,
   "metadata": {},
   "outputs": [
    {
     "name": "stdout",
     "output_type": "stream",
     "text": "La raiz cuadrada del numero ingresado es: 2.0\nEl cubo de ese numero es: 16\nEl resultado de la operacion suma es: 111\n"
    }
   ],
   "source": [
    "import math\n",
    "class operations():\n",
    "    def raiz_cuadrada(self, num):\n",
    "        return math.sqrt(num)\n",
    "    def exponente(self,base,exponente):\n",
    "        return base**exponente\n",
    "    def suma(self, listnum):\n",
    "        inp = True\n",
    "        res = 0\n",
    "        while inp:\n",
    "            listnum.append(int(input(\"Ingrese un numero:  \")))\n",
    "            aux = int(input(\"Desea realizar una nueva operacion? 1=si, 2=no >> \"))\n",
    "            if aux == 1:\n",
    "                pass\n",
    "            else:\n",
    "                inp = False\n",
    "        \n",
    "        for i in listnum:\n",
    "            res += i\n",
    "        return res\n",
    "\n",
    "miOp = operations()\n",
    "try: \n",
    "    num = int(input(\"Ingrese un numero para calcular la raiz cuadrada y el cubo >> \"))\n",
    "    print(\"La raiz cuadrada del numero ingresado es: \" + str(miOp.raiz_cuadrada(num)))\n",
    "    print(\"El cubo de ese numero es: \" + str(miOp.exponente(num,2)))\n",
    "    print(\"El resultado de la operacion suma es: \" + str(miOp.suma([])))\n",
    "except ValueError:\n",
    "    print(\"Atencion el string ingresado no es un numero!\")"
   ]
  },
  {
   "cell_type": "code",
   "execution_count": null,
   "metadata": {},
   "outputs": [],
   "source": []
  }
 ]
}