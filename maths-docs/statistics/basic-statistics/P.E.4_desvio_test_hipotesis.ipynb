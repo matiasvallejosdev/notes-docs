{
 "cells": [
  {
   "cell_type": "markdown",
   "metadata": {},
   "source": [
    "## 1) Promedio y desvío estándar"
   ]
  },
  {
   "cell_type": "code",
   "execution_count": 1,
   "metadata": {},
   "outputs": [],
   "source": [
    "import pandas as pd"
   ]
  },
  {
   "cell_type": "code",
   "execution_count": 2,
   "metadata": {},
   "outputs": [],
   "source": [
    "data_spotify=pd.read_csv('https://raw.githubusercontent.com/rfordatascience/tidytuesday/master/data/2020/2020-01-21/spotify_songs.csv')"
   ]
  },
  {
   "cell_type": "markdown",
   "metadata": {},
   "source": [
    "Video AE4"
   ]
  },
  {
   "cell_type": "code",
   "execution_count": 8,
   "metadata": {},
   "outputs": [],
   "source": [
    "data_pop_rap1=data_spotify[data_spotify['playlist_genre'].isin(['pop', 'rap', 'latin'])]\n",
    "data_pop_rap2=data_pop_rap1[['playlist_genre','duration_ms']]"
   ]
  },
  {
   "cell_type": "code",
   "execution_count": 9,
   "metadata": {},
   "outputs": [
    {
     "data": {
      "text/html": [
       "<div>\n",
       "<style scoped>\n",
       "    .dataframe tbody tr th:only-of-type {\n",
       "        vertical-align: middle;\n",
       "    }\n",
       "\n",
       "    .dataframe tbody tr th {\n",
       "        vertical-align: top;\n",
       "    }\n",
       "\n",
       "    .dataframe thead th {\n",
       "        text-align: right;\n",
       "    }\n",
       "</style>\n",
       "<table border=\"1\" class=\"dataframe\">\n",
       "  <thead>\n",
       "    <tr style=\"text-align: right;\">\n",
       "      <th></th>\n",
       "      <th>duration_ms</th>\n",
       "    </tr>\n",
       "    <tr>\n",
       "      <th>playlist_genre</th>\n",
       "      <th></th>\n",
       "    </tr>\n",
       "  </thead>\n",
       "  <tbody>\n",
       "    <tr>\n",
       "      <th>latin</th>\n",
       "      <td>216.863447</td>\n",
       "    </tr>\n",
       "    <tr>\n",
       "      <th>pop</th>\n",
       "      <td>217.768104</td>\n",
       "    </tr>\n",
       "    <tr>\n",
       "      <th>rap</th>\n",
       "      <td>214.163889</td>\n",
       "    </tr>\n",
       "  </tbody>\n",
       "</table>\n",
       "</div>"
      ],
      "text/plain": [
       "                duration_ms\n",
       "playlist_genre             \n",
       "latin            216.863447\n",
       "pop              217.768104\n",
       "rap              214.163889"
      ]
     },
     "execution_count": 9,
     "metadata": {},
     "output_type": "execute_result"
    }
   ],
   "source": [
    "data_pop_rap2.groupby('playlist_genre').mean()/1000 # duración en segundos"
   ]
  },
  {
   "cell_type": "code",
   "execution_count": 10,
   "metadata": {},
   "outputs": [
    {
     "data": {
      "text/html": [
       "<div>\n",
       "<style scoped>\n",
       "    .dataframe tbody tr th:only-of-type {\n",
       "        vertical-align: middle;\n",
       "    }\n",
       "\n",
       "    .dataframe tbody tr th {\n",
       "        vertical-align: top;\n",
       "    }\n",
       "\n",
       "    .dataframe thead th {\n",
       "        text-align: right;\n",
       "    }\n",
       "</style>\n",
       "<table border=\"1\" class=\"dataframe\">\n",
       "  <thead>\n",
       "    <tr style=\"text-align: right;\">\n",
       "      <th></th>\n",
       "      <th>duration_ms</th>\n",
       "    </tr>\n",
       "    <tr>\n",
       "      <th>playlist_genre</th>\n",
       "      <th></th>\n",
       "    </tr>\n",
       "  </thead>\n",
       "  <tbody>\n",
       "    <tr>\n",
       "      <th>latin</th>\n",
       "      <td>48.401258</td>\n",
       "    </tr>\n",
       "    <tr>\n",
       "      <th>pop</th>\n",
       "      <td>45.312946</td>\n",
       "    </tr>\n",
       "    <tr>\n",
       "      <th>rap</th>\n",
       "      <td>60.265287</td>\n",
       "    </tr>\n",
       "  </tbody>\n",
       "</table>\n",
       "</div>"
      ],
      "text/plain": [
       "                duration_ms\n",
       "playlist_genre             \n",
       "latin             48.401258\n",
       "pop               45.312946\n",
       "rap               60.265287"
      ]
     },
     "execution_count": 10,
     "metadata": {},
     "output_type": "execute_result"
    }
   ],
   "source": [
    "data_pop_rap2.groupby('playlist_genre').std()/1000"
   ]
  },
  {
   "cell_type": "markdown",
   "metadata": {},
   "source": [
    "Promedios muy parecidos... pero desvíos estandares no \"tan similares\".\n",
    "\n",
    "**¿Hay alguna manera de medirlo mas estandarizado?**"
   ]
  },
  {
   "cell_type": "markdown",
   "metadata": {},
   "source": [
    "Lectura recomendada del análisis del error en ML: [Conociendo el error | Libro Vivo de Ciencia de Datos](https://librovivodecienciadedatos.ai/desempe%C3%B1o-modelo.html#conociendo_el_error)"
   ]
  },
  {
   "cell_type": "code",
   "execution_count": null,
   "metadata": {},
   "outputs": [],
   "source": [
    "\n",
    "\n",
    "\n",
    "\n",
    "\n",
    "\n",
    "\n",
    "\n",
    "\n",
    "\n",
    "\n",
    "\n",
    "\n",
    "\n"
   ]
  },
  {
   "cell_type": "markdown",
   "metadata": {},
   "source": [
    "## 2)Test de hipótesis"
   ]
  },
  {
   "cell_type": "markdown",
   "metadata": {},
   "source": [
    "#### Un poco de teoría:\n",
    "\n",
    "La prueba (test) **t-student**, se usa para determinar si los promedios entre dos muestras son realmente diferentes (como un juez imparcial).\n",
    "\n",
    "En la t-student comparamos 2 muestras de una población desconocida (no tenemos todos los temas). Las muestras son al azar e independientes.\n",
    "\n",
    "Si las muestras están relacionadas (ej mismo paciente con un medicamento), se usa: \"Paired Sample T-Test\". No tan común en ML.\n"
   ]
  },
  {
   "cell_type": "code",
   "execution_count": 15,
   "metadata": {},
   "outputs": [],
   "source": [
    "d_pop=data_pop_rap1.query(\"playlist_genre=='pop'\")['duration_ms'].rename('duration_pop')\n",
    "\n",
    "d_rap=data_pop_rap2.query(\"playlist_genre=='rap'\")['duration_ms'].rename('duration_rap')"
   ]
  },
  {
   "cell_type": "code",
   "execution_count": 16,
   "metadata": {},
   "outputs": [
    {
     "data": {
      "image/png": "[encoded data removed]",
      "text/plain": [
       "<Figure size 432x288 with 1 Axes>"
      ]
     },
     "metadata": {
      "needs_background": "light"
     },
     "output_type": "display_data"
    }
   ],
   "source": [
    "import seaborn as sns\n",
    "import matplotlib.pyplot as plt\n",
    "\n",
    "sns.kdeplot(d_pop, shade=True)\n",
    "sns.kdeplot(d_rap, shade=True)\n",
    "\n",
    "p=plt.title(\"Duration ms\")"
   ]
  },
  {
   "cell_type": "markdown",
   "metadata": {},
   "source": [
    "- Hipótesis nula: µa = µb (el promedio de ambas muestras es igual)\n",
    "\n",
    "- Hipótesis alternativa: µa ≠ µb (el promedio de ambas muestras no es igual) "
   ]
  },
  {
   "cell_type": "markdown",
   "metadata": {},
   "source": [
    "Nivel de significancia: 0.05"
   ]
  },
  {
   "cell_type": "code",
   "execution_count": 18,
   "metadata": {},
   "outputs": [
    {
     "name": "stdout",
     "output_type": "stream",
     "text": [
      "p-value: 0.000325\n"
     ]
    }
   ],
   "source": [
    "from scipy import stats\n",
    "\n",
    "t_stat, p_value = stats.ttest_ind(d_pop, d_rap, equal_var = False)\n",
    "\n",
    "print(\"p-value: {0}\".format(round(p_value, 6)))"
   ]
  },
  {
   "cell_type": "markdown",
   "metadata": {},
   "source": [
    "Como el p-value de `0.000325` es menor que el nivel de significancia **alpha=0.05**, podemos rechazar la hipótesis nula y aceptar la hipótesis alternativa de que la diferencia de los promedios en ambas muestras no es 0.\n",
    "\n"
   ]
  },
  {
   "cell_type": "code",
   "execution_count": null,
   "metadata": {},
   "outputs": [],
   "source": []
  },
  {
   "cell_type": "markdown",
   "metadata": {},
   "source": [
    "Asumimos que la varianza en las muestras no es la misma: `usevar='unequal'`\n",
    "\n",
    "Regla: Si p-value < alpha →  rechazo la hipótesis nula (rechazo que H0: la diferencia entre las medias es 0)"
   ]
  },
  {
   "cell_type": "code",
   "execution_count": null,
   "metadata": {},
   "outputs": [],
   "source": []
  },
  {
   "cell_type": "markdown",
   "metadata": {},
   "source": [
    "### 2) Intervalo de confianza del parámetro"
   ]
  },
  {
   "cell_type": "code",
   "execution_count": 19,
   "metadata": {},
   "outputs": [
    {
     "name": "stdout",
     "output_type": "stream",
     "text": [
      "(1639.21094073593, 5569.219240678599)\n"
     ]
    }
   ],
   "source": [
    "import numpy as np, statsmodels.stats.api as sms\n",
    "\n",
    "cm = sms.CompareMeans(sms.DescrStatsW(d_pop), sms.DescrStatsW(d_rap))\n",
    "\n",
    "print(cm.tconfint_diff(usevar='unequal'))"
   ]
  },
  {
   "cell_type": "markdown",
   "metadata": {},
   "source": [
    "Notar que el intervalo de confianza no contiene al 0."
   ]
  },
  {
   "cell_type": "code",
   "execution_count": null,
   "metadata": {},
   "outputs": [],
   "source": []
  },
  {
   "cell_type": "markdown",
   "metadata": {},
   "source": [
    "Animación de seeing the theory que aparece en el video: https://seeing-theory.brown.edu/frequentist-inference/es.html#section2"
   ]
  },
  {
   "cell_type": "markdown",
   "metadata": {},
   "source": [
    "## Otro caso!"
   ]
  },
  {
   "cell_type": "code",
   "execution_count": 20,
   "metadata": {},
   "outputs": [],
   "source": [
    "data_2=data_spotify[data_spotify['playlist_genre'].isin(['pop', 'latin'])]\n",
    "data_2=data_2[['playlist_genre','duration_ms']]"
   ]
  },
  {
   "cell_type": "code",
   "execution_count": 21,
   "metadata": {},
   "outputs": [],
   "source": [
    "d_pop=data_2.query(\"playlist_genre=='pop'\")['duration_ms']\n",
    "d_latin=data_2.query(\"playlist_genre=='latin'\")['duration_ms']"
   ]
  },
  {
   "cell_type": "code",
   "execution_count": 22,
   "metadata": {},
   "outputs": [
    {
     "data": {
      "image/png": "[encoded data removed]",
      "text/plain": [
       "<Figure size 432x288 with 1 Axes>"
      ]
     },
     "metadata": {
      "needs_background": "light"
     },
     "output_type": "display_data"
    }
   ],
   "source": [
    "sns.kdeplot(d_pop, shade=True)\n",
    "sns.kdeplot(d_latin, shade=True)\n",
    "\n",
    "p=plt.title(\"Independent Sample T-Test\")"
   ]
  },
  {
   "cell_type": "code",
   "execution_count": 26,
   "metadata": {},
   "outputs": [
    {
     "name": "stdout",
     "output_type": "stream",
     "text": [
      "p-value: 0.319948 | t-statistic: 0.99461\n"
     ]
    }
   ],
   "source": [
    "from scipy import stats\n",
    "\n",
    "t_stat, p_value = stats.ttest_ind(d_pop, d_latin, equal_var = False)\n",
    "\n",
    "print(\"p-value: {0} | t-statistic: {1}\".format(round(p_value, 6), round(t_stat, 5)))"
   ]
  },
  {
   "cell_type": "code",
   "execution_count": 27,
   "metadata": {},
   "outputs": [
    {
     "name": "stdout",
     "output_type": "stream",
     "text": [
      "(-878.2482287572063, 2687.5628012869574)\n"
     ]
    }
   ],
   "source": [
    "import numpy as np, statsmodels.stats.api as sms\n",
    "\n",
    "cm = sms.CompareMeans(sms.DescrStatsW(d_pop), sms.DescrStatsW(d_latin))\n",
    "\n",
    "print(cm.tconfint_diff(usevar='unequal'))"
   ]
  },
  {
   "cell_type": "markdown",
   "metadata": {},
   "source": [
    "#### Comentarios sobre test de hipótesis y aspectos que no cubrimos:\n",
    "    \n",
    "- Test de normalidad (normalmente, no son normales las curvas) \n",
    "- Tamaño de la muestra (normalmente son > 30)\n",
    "- Conocer el promedio y varianza de la población (normalmente no se conoce)"
   ]
  }
 ],
 "metadata": {
  "kernelspec": {
   "display_name": "Python [conda env:dev-ml] *",
   "language": "python",
   "name": "conda-env-dev-ml-py"
  },
  "language_info": {
   "codemirror_mode": {
    "name": "ipython",
    "version": 3
   },
   "file_extension": ".py",
   "mimetype": "text/x-python",
   "name": "python",
   "nbconvert_exporter": "python",
   "pygments_lexer": "ipython3",
   "version": "3.8.3"
  }
 },
 "nbformat": 4,
 "nbformat_minor": 4
}
